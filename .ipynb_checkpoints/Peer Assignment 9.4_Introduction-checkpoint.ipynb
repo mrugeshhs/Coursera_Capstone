{
 "cells": [
  {
   "cell_type": "markdown",
   "metadata": {},
   "source": [
    "## Business Context:\n",
    "\n",
    "###### A Bank wants to develop a customer segmentation to define marketing strategy. The sample dataset summarizes the usage behaviour of about 9000 active credit card holders during the last 6 months. The file at customer level includes Transaction frequency, amount, tenure etc.\n",
    "\n",
    "## Business Requirements:\n",
    "\n",
    "###### Bank Marketing team would like to leverage ML to launch target ad campaign that is tailored to specific group of customers.Based on this group or Market segments, marketing strategy will be formed.\n",
    "\n",
    "###### Following Parameters would help maketing team to formulate better strategy,\n",
    "\n",
    "* Monthly average spend\n",
    "* Purchases type (EMI etc)\n",
    "* Average amount per purchase.\n",
    "* Clustering segments of credit card holders\n",
    "* Provide the strategic insights and implementation of strategies for given set of cluster characteristics.bases="
   ]
  }
 ],
 "metadata": {
  "kernelspec": {
   "display_name": "Python 3",
   "language": "python",
   "name": "python3"
  },
  "language_info": {
   "codemirror_mode": {
    "name": "ipython",
    "version": 3
   },
   "file_extension": ".py",
   "mimetype": "text/x-python",
   "name": "python",
   "nbconvert_exporter": "python",
   "pygments_lexer": "ipython3",
   "version": "3.7.6"
  }
 },
 "nbformat": 4,
 "nbformat_minor": 4
}
